{
 "cells": [
  {
   "cell_type": "code",
   "execution_count": 1,
   "metadata": {},
   "outputs": [],
   "source": [
    "# The following lines import the necessary packages. You can ignore them.\n",
    "import numpy as np              # For working with numerical data\n",
    "import matplotlib.pyplot as plt # For plotting"
   ]
  },
  {
   "cell_type": "code",
   "execution_count": 43,
   "metadata": {},
   "outputs": [],
   "source": [
    "#Decide on your parameters\n",
    "alpha = 0.07 #Proportion of kids who become adults each year\n",
    "beta = 0.05 #Proportion of adults who have a new baby each year \n",
    "gamma = 0.02 #Proportion of adults who become elderly\n",
    "delta = 0.07 #proportion of elderly people who die each year\n",
    "\n",
    "#And your initial populations\n",
    "X0 = 11000 #The number of children\n",
    "Y0 = 36000 #The number of adults\n",
    "Z0 = 13000 #The number of elderly\n",
    "\n",
    "#And how long you want the simulation to last for\n",
    "maxTime = 50 #Years"
   ]
  },
  {
   "cell_type": "code",
   "execution_count": 44,
   "metadata": {},
   "outputs": [],
   "source": [
    "# FIGURE PARAMETERS\n",
    "\n",
    "# Use the next line to set figure height and width (experiment to check the scale):\n",
    "figure_width, figure_height = 7,7\n",
    "\n",
    "# These lines set the figure title and axis labels and the font sizes:\n",
    "fig_title = 'A simple SIR model'\n",
    "x_label   = 'Time'\n",
    "y_label   = 'Populations'\n",
    "title_fontsize = 15\n",
    "label_fontsize = 10\n",
    "\n",
    "# These lines set the limits of the x and y axes, so that all plots are on the same scale.\n",
    "x_min, x_max = 0,maxTime\n",
    "y_min, y_max = 0, (X0+Y0+Z0)\n",
    "\n",
    "# This is a function that sets up each figure's x-limits and y-limits and axis labels.\n",
    "\n",
    "def setup_figure():\n",
    "    \n",
    "    plt.xlim([x_min, x_max])\n",
    "    plt.ylim([y_min, y_max])\n",
    "    plt.xlabel(x_label,fontsize=label_fontsize)\n",
    "    plt.ylabel(y_label,fontsize=label_fontsize)\n"
   ]
  },
  {
   "cell_type": "code",
   "execution_count": 45,
   "metadata": {},
   "outputs": [],
   "source": [
    "#Initialise the three groups\n",
    "X, Y, Z = np.array([X0]), np.array([Y0]),np.array([Z0])"
   ]
  },
  {
   "cell_type": "code",
   "execution_count": 46,
   "metadata": {},
   "outputs": [],
   "source": [
    "#Here's how to do simulation that increments forwards in time\n",
    "\n",
    "#First initialise your \"timer\" to zero\n",
    "t = 0\n",
    "\n",
    "#Now set up a loop that will execute until the timer is reaches maxTime\n",
    "while t<maxTime:\n",
    "    t+=1 #increment forward your timer. \n",
    "    \n",
    "    #Here are the current populations in each group\n",
    "    Xnow = X[-1]\n",
    "    Ynow = Y[-1]\n",
    "    Znow = Z[-1]\n",
    "    \n",
    "    #And use the equations to work out what the changes to the values\n",
    "    deltaX = beta*Ynow - alpha*Xnow\n",
    "    deltaY = alpha*Xnow - gamma*Ynow\n",
    "    deltaZ = gamma*Ynow - delta*Znow\n",
    "\n",
    "    #Which leaves the new values as\n",
    "    Xnew = Xnow + deltaX\n",
    "    Ynew = Ynow + deltaY\n",
    "    Znew = Znow + deltaZ\n",
    "\n",
    "    #Append these new values to the relevant arrays\n",
    "    X = np.append(X, Xnew)\n",
    "    Y = np.append(Y, Ynew)\n",
    "    Z = np.append(Z, Znew)"
   ]
  },
  {
   "cell_type": "code",
   "execution_count": 47,
   "metadata": {},
   "outputs": [
    {
     "data": {
      "text/plain": [
       "[<matplotlib.lines.Line2D at 0x7f8ef6cef050>]"
      ]
     },
     "execution_count": 47,
     "metadata": {},
     "output_type": "execute_result"
    },
    {
     "data": {
      "image/png": "[encoded data removed]",
      "text/plain": [
       "<Figure size 432x288 with 1 Axes>"
      ]
     },
     "metadata": {
      "needs_background": "light"
     },
     "output_type": "display_data"
    }
   ],
   "source": [
    "#Let's do some plotting:\n",
    "setup_figure()\n",
    "plt.plot(X, 'r')\n",
    "plt.plot(Y, 'b')\n",
    "plt.plot(Z, 'g')\n"
   ]
  },
  {
   "cell_type": "code",
   "execution_count": 7,
   "metadata": {},
   "outputs": [
    {
     "data": {
      "text/plain": [
       "array([1000.        , 1130.        , 1248.3       , 1355.953     ,\n",
       "       1453.91723   , 1543.0646793 , 1624.18885816, 1698.01186093,\n",
       "       1765.19079344, 1826.32362203, 1881.95449605, 1932.57859141,\n",
       "       1978.64651818, 2020.56833154, 2058.71718171, 2093.43263535,\n",
       "       2125.02369817, 2153.77156533, 2179.93212445, 2203.73823325,\n",
       "       2225.40179226, 2245.11563096, 2263.05522417, 2279.380254  ,\n",
       "       2294.23603114, 2307.75478833, 2320.05685738, 2331.25174022,\n",
       "       2341.4390836 , 2350.70956608, 2359.14570513, 2366.82259167,\n",
       "       2373.80855842, 2380.16578816, 2385.95086723, 2391.21528917,\n",
       "       2396.00591315, 2400.36538097, 2404.33249668, 2407.94257198,\n",
       "       2411.2277405 , 2414.21724385, 2416.93769191, 2419.41329964,\n",
       "       2421.66610267, 2423.71615343, 2425.58169962, 2427.27934665,\n",
       "       2428.82420546, 2430.23002696, 2431.50932454, 2432.67348533,\n",
       "       2433.73287165, 2434.6969132 , 2435.57419101, 2436.37251382,\n",
       "       2437.09898758, 2437.7600787 , 2438.36167161, 2438.90912117,\n",
       "       2439.40730026, 2439.86064324, 2440.27318535, 2440.64859867,\n",
       "       2440.99022479, 2441.30110456, 2441.58400515, 2441.84144468,\n",
       "       2442.07571466, 2442.28890034, 2442.48289931, 2442.65943837,\n",
       "       2442.82008892, 2442.96628092, 2443.09931563, 2443.22037723,\n",
       "       2443.33054328, 2443.43079438, 2443.52202289, 2443.60504083,\n",
       "       2443.68058715, 2443.74933431, 2443.81189422, 2443.86882374,\n",
       "       2443.9206296 , 2443.96777294, 2444.01067338, 2444.04971277,\n",
       "       2444.08523862, 2444.11756715, 2444.1469861 , 2444.17375735,\n",
       "       2444.19811919, 2444.22028846, 2444.2404625 , 2444.25882088,\n",
       "       2444.275527  , 2444.29072957, 2444.30456391, 2444.31715316,\n",
       "       2444.32860937])"
      ]
     },
     "execution_count": 7,
     "metadata": {},
     "output_type": "execute_result"
    }
   ],
   "source": [
    "pl"
   ]
  },
  {
   "cell_type": "code",
   "execution_count": null,
   "metadata": {},
   "outputs": [],
   "source": []
  }
 ],
 "metadata": {
  "kernelspec": {
   "display_name": "Python 3",
   "language": "python",
   "name": "python3"
  },
  "language_info": {
   "codemirror_mode": {
    "name": "ipython",
    "version": 3
   },
   "file_extension": ".py",
   "mimetype": "text/x-python",
   "name": "python",
   "nbconvert_exporter": "python",
   "pygments_lexer": "ipython3",
   "version": "3.7.8"
  }
 },
 "nbformat": 4,
 "nbformat_minor": 4
}
