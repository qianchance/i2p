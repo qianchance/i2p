{
 "cells": [
  {
   "cell_type": "code",
   "execution_count": 111,
   "metadata": {},
   "outputs": [],
   "source": [
    "# The following lines import the necessary packages. You can ignore them.\n",
    "import numpy as np              # For working with numerical data\n",
    "import matplotlib.pyplot as plt # For plotting"
   ]
  },
  {
   "cell_type": "code",
   "execution_count": 112,
   "metadata": {},
   "outputs": [],
   "source": [
    "#Decide on your parameters\n",
    "alpha = 0.4\n",
    "beta = 0.04\n",
    "\n",
    "#And your initial populations\n",
    "N = 1000 #The number of people\n",
    "I0 = 3 #The number of infections\n",
    "\n",
    "#And how long you want the simulation to last for\n",
    "maxTime = 100"
   ]
  },
  {
   "cell_type": "code",
   "execution_count": 113,
   "metadata": {},
   "outputs": [],
   "source": [
    "# FIGURE PARAMETERS\n",
    "\n",
    "# Use the next line to set figure height and width (experiment to check the scale):\n",
    "figure_width, figure_height = 7,7\n",
    "\n",
    "# These lines set the figure title and axis labels and the font sizes:\n",
    "fig_title = 'A simple SIR model'\n",
    "x_label   = 'Time'\n",
    "y_label   = 'Populations'\n",
    "title_fontsize = 15\n",
    "label_fontsize = 10\n",
    "\n",
    "# These lines set the limits of the x and y axes, so that all plots are on the same scale.\n",
    "x_min, x_max = 0,maxTime\n",
    "y_min, y_max = 0, N\n",
    "\n",
    "# This is a function that sets up each figure's x-limits and y-limits and axis labels.\n",
    "\n",
    "def setup_figure():\n",
    "    \n",
    "    plt.xlim([x_min, x_max])\n",
    "    plt.ylim([y_min, y_max])\n",
    "    plt.xlabel(x_label,fontsize=label_fontsize)\n",
    "    plt.ylabel(y_label,fontsize=label_fontsize)\n"
   ]
  },
  {
   "cell_type": "code",
   "execution_count": 114,
   "metadata": {},
   "outputs": [],
   "source": [
    "#From the parameters, the initial popualtions can be calculated\n",
    "S0 = N - I0\n",
    "R0 = 0 #The model assumes that you start off with no recovered/removed individuals\n",
    "\n",
    "#Initialise the three groups\n",
    "S, I, R = np.array([S0]), np.array([I0]),np.array([R0])"
   ]
  },
  {
   "cell_type": "code",
   "execution_count": 115,
   "metadata": {},
   "outputs": [],
   "source": [
    "#Here's how to do simulation that increments forwards in time\n",
    "\n",
    "#First initialise your \"timer\" to zero\n",
    "t = 0\n",
    "\n",
    "#Now set up a loop that will execute until the timer is reaches maxTime\n",
    "while t<maxTime:\n",
    "    t+=1 #increment forward your timer. \n",
    "    \n",
    "    #Here are the current populations in each group\n",
    "    Snow = S[-1]\n",
    "    Inow = I[-1]\n",
    "    Rnow = R[-1]\n",
    "    \n",
    "    #And use the equations to work out what the changes to the values\n",
    "    Sdelta = - alpha*Snow*Inow/N\n",
    "    Idelta = (alpha*Snow*Inow)/N - beta*Inow\n",
    "    Rdelta = beta*Inow\n",
    "\n",
    "    #Which leaves the new values as\n",
    "    Snew = Snow + Sdelta\n",
    "    Inew = Inow + Idelta\n",
    "    Rnew = Rnow + Rdelta\n",
    "\n",
    "    #Append these new values to the relevant arrays\n",
    "    S = np.append(S, Snew)\n",
    "    I = np.append(I, Inew)\n",
    "    R = np.append(R, Rnew)"
   ]
  },
  {
   "cell_type": "code",
   "execution_count": 116,
   "metadata": {},
   "outputs": [
    {
     "data": {
      "text/plain": [
       "[<matplotlib.lines.Line2D at 0x7f855f12df50>]"
      ]
     },
     "execution_count": 116,
     "metadata": {},
     "output_type": "execute_result"
    },
    {
     "data": {
      "image/png": "[encoded data removed]",
      "text/plain": [
       "<Figure size 432x288 with 1 Axes>"
      ]
     },
     "metadata": {
      "needs_background": "light"
     },
     "output_type": "display_data"
    }
   ],
   "source": [
    "#Let's do some plotting:\n",
    "setup_figure()\n",
    "plt.plot(S, 'r')\n",
    "plt.plot(I, 'b')\n",
    "plt.plot(R, 'g')\n"
   ]
  },
  {
   "cell_type": "code",
   "execution_count": null,
   "metadata": {},
   "outputs": [],
   "source": []
  },
  {
   "cell_type": "code",
   "execution_count": null,
   "metadata": {},
   "outputs": [],
   "source": []
  }
 ],
 "metadata": {
  "kernelspec": {
   "display_name": "Python 3",
   "language": "python",
   "name": "python3"
  },
  "language_info": {
   "codemirror_mode": {
    "name": "ipython",
    "version": 3
   },
   "file_extension": ".py",
   "mimetype": "text/x-python",
   "name": "python",
   "nbconvert_exporter": "python",
   "pygments_lexer": "ipython3",
   "version": "3.7.8"
  }
 },
 "nbformat": 4,
 "nbformat_minor": 4
}
