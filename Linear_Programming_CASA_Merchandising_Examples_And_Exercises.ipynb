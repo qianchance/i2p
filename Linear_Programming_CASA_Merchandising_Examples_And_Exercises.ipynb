{
 "cells": [
  {
   "cell_type": "markdown",
   "metadata": {},
   "source": [
    "## Linear Programming in Python"
   ]
  },
  {
   "cell_type": "markdown",
   "metadata": {},
   "source": [
    "Let's solve the mugs and pencils problem using Python.\n",
    "\n",
    "We'll need the scipy.optimize package:"
   ]
  },
  {
   "cell_type": "code",
   "execution_count": 1,
   "metadata": {},
   "outputs": [],
   "source": [
    "import scipy.optimize as spo"
   ]
  },
  {
   "cell_type": "markdown",
   "metadata": {},
   "source": [
    "#### This is the problem (called a linear program) we're trying to solve...\n",
    "\n",
    "Adam makes a mug in 50 minutes and a pencil in 25 minutes.  \n",
    "Elsa paints the CASA logo on to a mug in 30 minutes and a pencil in 35 minutes.\n",
    "\n",
    "Adam has 2400 minutes per week to produce CASA merchandise, while Elsa has 2100 minutes per week.\n",
    "\n",
    "The profit on a mug is £1.30, the profit on a pencil is £0.90.\n",
    "\n",
    "How many mugs and pencils should be made in a week to maximise CASA's profit?\n",
    "\n",
    "(Adapted from http://people.brunel.ac.uk/~mastjjb/jeb/or/morelp.html, J. E. Beasley)"
   ]
  },
  {
   "cell_type": "markdown",
   "metadata": {},
   "source": [
    "#### And here is the problem written as a linear program:\n",
    "\n",
    "Maximise:  \n",
    "P = 1.3x + 0.9y\n",
    "\n",
    "Subject to:  \n",
    "50x + 25y ≤ 2400 (Adam)  \n",
    "30x + 35y ≤ 2100 (Elsa)  \n",
    "x ≥ 0  \n",
    "y ≥ 0\n",
    "\n",
    "Where:  \n",
    "x = Number of mugs  \n",
    "y = Number of pencils  \n",
    "P = Profit (£)"
   ]
  },
  {
   "cell_type": "code",
   "execution_count": 2,
   "metadata": {},
   "outputs": [],
   "source": [
    "# We need to store all the relevant information in this problem.\n",
    "# First the numbers from the objective function.\n",
    "# There's one catch. Python expects a MINIMISATION problem, but we want to MAXIMISE.\n",
    "# This is easy to fix though, we'll just make the coefficients in the objective function (1.3 and 0.9) negative:\n",
    "\n",
    "objective_coeffs = [-1.3,-0.9]\n",
    "\n",
    "# Next the constraints.\n",
    "# We have to put the x and y coefficients into one array:\n",
    "\n",
    "constraint_coeffs = [[50,25],\n",
    "                     [30,35]]\n",
    "\n",
    "# And the constants (2400 and 2100) into a separate list:\n",
    "\n",
    "constraint_consts = [2400,2100]\n",
    "\n",
    "# Make sure everything stays in the right order!"
   ]
  },
  {
   "cell_type": "code",
   "execution_count": 3,
   "metadata": {},
   "outputs": [],
   "source": [
    "# Note that we haven't worried about the constraints x >= 0 and y >= 0.\n",
    "# That's because scipy.optimize will assume that anyway.\n",
    "# However, we could specify bounds on x and y like this:\n",
    "\n",
    "x_bounds = (0,None) # i.e. x must be >= 0, but has no upper bound\n",
    "y_bounds = (0,None) # ditto y\n",
    "\n",
    "# We'll stick these into the function just to show how to use them...\n",
    "# (in some other example you might need x >= 3 or whatever)"
   ]
  },
  {
   "cell_type": "code",
   "execution_count": 4,
   "metadata": {},
   "outputs": [
    {
     "name": "stdout",
     "output_type": "stream",
     "text": [
      "Primal Feasibility  Dual Feasibility    Duality Gap         Step             Path Parameter      Objective          \n",
      "1.0                 1.0                 1.0                 -                1.0                 -2.2                \n",
      "0.01504831119935    0.01504831119935    0.01504831119967    0.984986401143   0.01504831119935    -48.07693467111     \n",
      "0.0006373540181056  0.0006373540181061  0.0006373540181196  0.9681666624879  0.0006373540181064  -69.2085753579      \n",
      "3.874139200164e-05  3.874139200163e-05  3.874139200185e-05  0.9480606960956  3.87413920015e-05   -70.60414707278     \n",
      "9.500089936553e-09  9.500089355804e-09  9.500089603875e-09  0.9997572327843  9.500088652052e-09  -70.64998451064     \n",
      "Optimization terminated successfully.\n",
      "         Current function value: -70.649985  \n",
      "         Iterations: 4\n",
      "x = 31.500010076658004\n",
      "y = 32.999968234428856\n",
      "P = 70.64998451064137\n"
     ]
    }
   ],
   "source": [
    "# Now we're ready to do the optimisation:\n",
    "\n",
    "results = spo.linprog(objective_coeffs, A_ub=constraint_coeffs, b_ub=constraint_consts, bounds=(x_bounds, y_bounds),options={\"disp\": True})\n",
    "\n",
    "# The options={\"disp\": True} bit is just so it will show you an error message if everything fails...\n",
    "# ... if there is no solution or the problem is too complicated for the computer, for example, which is possible.\n",
    "\n",
    "# Storing the output as \"results\" is necessary.\n",
    "# scipy.optimize.linprog spits out a special sort of object, so...\n",
    "# ... we have to store it and then get the information we need like so:\n",
    "\n",
    "# The optimal values of x and y:\n",
    "# (Note that 'x' just gives us all the variables)\n",
    "x, y = results['x']\n",
    "print(\"x =\", x)\n",
    "print(\"y =\", y)\n",
    "\n",
    "# The optimal value of the objective function (i.e. our best possible profit):\n",
    "# (Note that because we had to make the objective coefficients negative...\n",
    "# ... the profit will come out negative as well, unless we put a minus sign in.)\n",
    "P = -results['fun']\n",
    "print(\"P =\", P)\n"
   ]
  },
  {
   "cell_type": "code",
   "execution_count": 5,
   "metadata": {},
   "outputs": [
    {
     "name": "stdout",
     "output_type": "stream",
     "text": [
      "The optimal production schedule is to make 31.500010076658004 mugs and 32.999968234428856 pencils.\n",
      "This will make £70.65 of profit.\n"
     ]
    }
   ],
   "source": [
    "# We'll assume that a mug can be left half finished for next week, so 31.5 mugs is ok...\n",
    "# (But if you're not happy with this, see the bottom of the workbook for a more complete examination.)\n",
    "\n",
    "# So let's report on our results:\n",
    "print(\"The optimal production schedule is to make\", x, \"mugs and\", y, \"pencils.\")\n",
    "print(\"This will make £\" + str(round(P,2)) + \" of profit.\")"
   ]
  },
  {
   "cell_type": "code",
   "execution_count": 6,
   "metadata": {},
   "outputs": [],
   "source": [
    "# The documentation for scipy.optimize.linprog is here:\n",
    "# https://docs.scipy.org/doc/scipy-0.18.1/reference/generated/scipy.optimize.linprog.html"
   ]
  },
  {
   "cell_type": "markdown",
   "metadata": {},
   "source": [
    "### Exercise 7.1\n",
    "\n",
    "a) Andy must check each mug and pencil to ensure quality remains high. Checking a piece of merchandise takes only 1 minute, but Andy is very busy and only has 60 minutes to check merchandise each week. Alter the code to include Andy's quality control stage.\n",
    "\n",
    "b) CASA also makes sweets. Adam takes 2 minutes to make a sweet, Elsa takes 3 minutes to paint the CASA logo on to the packaging, and Andy can check sweets in just 30 seconds. A sweet can be sold for a profit of 8 pence. Alter the code to include sweet making.\n",
    "\n",
    "### Exercise 7.2\n",
    "\n",
    "(Very, very loosely adapted from http://aetos.it.teithe.gr/~vkostogl/en/files/Educational%20material/SGGW_2016/Linear%20Programming_exercises.pdf)\n",
    "\n",
    "A cargo ship can store a maximum of 1200 tonnes of goods and has a capacity of 4200 cubic metres. You can transport containers of rum (20 tonnes, 50 cubic metres) and containers of glassware (16 tonnes, 70 cubic metres). Each container of rum sells for a profit of £28000, each container of glassware sells for a profit of £36000.\n",
    "\n",
    "a) Represent all the information as a linear programming problem.\n",
    "\n",
    "b) Solve the problem to determine how many containers of rum and how many containers of glassware you should transport to maximise your profit?\n",
    "\n",
    "### Exercise 7.3 (Harder)\n",
    "(Adapted from http://www.durban.gov.za/documents/city_government/maths_science_technology_programme/mathematics-newsletter.pdf - similar to the example with the farmer.)\n",
    "\n",
    "A property developer has 80 hectares for building luxury homes and affordable homes. She must allocate at least 10 hectares to luxury homes, while local planning rules oblige her to allocate at least a quarter of developed land to affordable homes. She would prefer to construct more affordable homes than luxury homes, but her investors will only allow her to allocate a maximum of three times the amount of land to affordable homes as to luxury homes.\n",
    "\n",
    "a) Sketch a graph including all the constraints to determine the feasible region.\n",
    "\n",
    "The developer can make a profit of £8m per hectare on luxury homes and £5m per hectare on affordable homes.\n",
    "\n",
    "b) Represent all the information as a linear programming problem.\n",
    "\n",
    "c) Solve the problem to show how much land the developer should allocate to each type of housing to maximise her profit and find the value of that maximum profit."
   ]
  },
  {
   "cell_type": "code",
   "execution_count": null,
   "metadata": {},
   "outputs": [],
   "source": []
  },
  {
   "cell_type": "markdown",
   "metadata": {},
   "source": [
    "### DEALING WITH NON-INTEGER SOLUTIONS (for completists)\n",
    "\n",
    "This is a little more complicated..."
   ]
  },
  {
   "cell_type": "code",
   "execution_count": 7,
   "metadata": {},
   "outputs": [
    {
     "name": "stdout",
     "output_type": "stream",
     "text": [
      "The best integer x value is 32\n",
      "The best integer y value is 32\n",
      "These give a profit of 70.4\n"
     ]
    }
   ],
   "source": [
    "# OK, but we can't really make half a mug...\n",
    "# The real solution is probably nearby though.\n",
    "# We'll check the profit for some nearby integer solutions to see which is best:\n",
    "\n",
    "# These are the x and y values to test, near our solution:\n",
    "# (2 below/above the optimal x and y values)\n",
    "x_test_vals = range(int(x)-2,int(x)+2+1)\n",
    "y_test_vals = range(int(y)-2,int(y)+2+1)\n",
    "\n",
    "# We'll create a function to tell us our profit, given x and y:\n",
    "def objective_function(_x_,_y_):\n",
    "    profit = -objective_coeffs[0]*_x_ - objective_coeffs[1]*_y_\n",
    "    return profit\n",
    "\n",
    "# And a function to check that the inequalities hold:\n",
    "def check_inequalities(_x_,_y_):\n",
    "    \n",
    "    number_of_constraints = len(constraint_coeffs)\n",
    "    solution_good = True\n",
    "    \n",
    "    for i in range(number_of_constraints):\n",
    "        if constraint_coeffs[i][0]*_x_ + constraint_coeffs[i][1]*_y_ <= constraint_consts[i]:\n",
    "            continue\n",
    "        else:\n",
    "            solution_good = False\n",
    "            break\n",
    "    \n",
    "    return solution_good\n",
    "\n",
    "# Then check all the solutions...\n",
    "\n",
    "# We'll change these values as we check:\n",
    "best_profit = 0\n",
    "best_x = 0\n",
    "best_y = 0\n",
    "\n",
    "# Let's get checking:\n",
    "for x_test in x_test_vals:\n",
    "    for y_test in y_test_vals:\n",
    "        \n",
    "        # Skip the test values if they don't fulfil the constraints:\n",
    "        if check_inequalities(x_test,y_test) == False:\n",
    "            continue\n",
    "        \n",
    "        # Otherwise check the profit:\n",
    "        profit_test = objective_function(x_test,y_test)\n",
    "        \n",
    "        # If this is the best profit we've seen so far, update our variables:\n",
    "        if profit_test > best_profit:\n",
    "            best_profit = profit_test\n",
    "            best_x = x_test\n",
    "            best_y = y_test\n",
    "\n",
    "print(\"The best integer x value is\", best_x)\n",
    "print(\"The best integer y value is\", best_y)\n",
    "print(\"These give a profit of\", best_profit)"
   ]
  },
  {
   "cell_type": "code",
   "execution_count": 8,
   "metadata": {},
   "outputs": [
    {
     "name": "stdout",
     "output_type": "stream",
     "text": [
      "The optimal production schedule is to make 32 mugs and 32 pencils.\n",
      "This will make £70.4 of profit.\n"
     ]
    }
   ],
   "source": [
    "# Interestingly, the optimum solution was NOT what you would get from rounding down the optimal x and y values...\n",
    "# That would have given x = 31, y = 33, which gives a profit of £70.\n",
    "# But it turns out that x = 32, y = 32, is also a possible solution, with a slightly higher profit of £70.40.\n",
    "\n",
    "# So let's report on our results:\n",
    "print(\"The optimal production schedule is to make\", best_x, \"mugs and\", best_y, \"pencils.\")\n",
    "print(\"This will make £\" + str(round(best_profit,2)) + \" of profit.\")"
   ]
  }
 ],
 "metadata": {
  "kernelspec": {
   "display_name": "Python [conda env:sds2020]",
   "language": "python",
   "name": "conda-env-sds2020-py"
  },
  "language_info": {
   "codemirror_mode": {
    "name": "ipython",
    "version": 3
   },
   "file_extension": ".py",
   "mimetype": "text/x-python",
   "name": "python",
   "nbconvert_exporter": "python",
   "pygments_lexer": "ipython3",
   "version": "3.7.8"
  },
  "toc": {
   "base_numbering": 1,
   "nav_menu": {},
   "number_sections": true,
   "sideBar": true,
   "skip_h1_title": false,
   "title_cell": "Table of Contents",
   "title_sidebar": "Contents",
   "toc_cell": false,
   "toc_position": {},
   "toc_section_display": true,
   "toc_window_display": false
  }
 },
 "nbformat": 4,
 "nbformat_minor": 1
}
